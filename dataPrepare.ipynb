{
 "cells": [
  {
   "cell_type": "code",
   "execution_count": 1,
   "metadata": {
    "tags": []
   },
   "outputs": [
    {
     "output_type": "stream",
     "name": "stderr",
     "text": "Using TensorFlow backend.\n"
    }
   ],
   "source": [
    "from data import *"
   ]
  },
  {
   "cell_type": "markdown",
   "metadata": {},
   "source": [
    "# Data Augmentasi\n",
    "\n",
    "Pembuatan data augmentasi menggunakan library **keras.preprocessing.image.ImageDataGenerator** yang bisa menggabungkan Deep Neural Network image dan label secara bersamaan."
   ]
  },
  {
   "cell_type": "markdown",
   "metadata": {},
   "source": [
    "## Tentukan parameter data generator\n",
    "Gunakan parameter dengan metode random dictionary seperti dibawah ini."
   ]
  },
  {
   "cell_type": "code",
   "execution_count": 2,
   "metadata": {},
   "outputs": [],
   "source": [
    "data_gen_args = dict(rotation_range = 0.05,\n",
    "                    width_shift_range = 0.01,\n",
    "                    height_shift_range = 0.01,\n",
    "                    shear_range = 0.05,\n",
    "                    zoom_range = 0.05,\n",
    "                    horizontal_flip = True,\n",
    "                    fill_mode = 'nearest')\n",
    "myGenerator = trainGenerator(600, 'data/train', 'image', 'label', data_gen_args, save_to_dir = \"data/train/aug\")"
   ]
  },
  {
   "cell_type": "markdown",
   "metadata": {},
   "source": [
    "## Membuat data augmentasi ke folder **'data/train/aug/'**"
   ]
  },
  {
   "cell_type": "code",
   "execution_count": 3,
   "metadata": {
    "tags": []
   },
   "outputs": [
    {
     "output_type": "stream",
     "name": "stdout",
     "text": "Found 600 images belonging to 1 classes.\nFound 600 images belonging to 1 classes.\n0\n1\n"
    }
   ],
   "source": [
    "num_batch = 2\n",
    "for i, batch in enumerate(myGenerator):\n",
    "    print(i)\n",
    "    if(i>=(num_batch-1)):\n",
    "        break"
   ]
  },
  {
   "cell_type": "markdown",
   "metadata": {},
   "source": [
    "## Membuat .npy data (data augmentasi yang sudah dikompres)\n",
    "Butuh memori tambahan untuk menyimpan data ini"
   ]
  },
  {
   "cell_type": "code",
   "execution_count": 4,
   "metadata": {},
   "outputs": [],
   "source": [
    "image_arr,mask_arr = geneTrainNpy(\"data/train/aug/\",\"data/train/aug/\")\n",
    "np.save(\"data/image_arr.npy\",image_arr)\n",
    "np.save(\"data/mask_arr.npy\",mask_arr)"
   ]
  },
  {
   "cell_type": "markdown",
   "metadata": {},
   "source": [
    "## Masking Test Data"
   ]
  },
  {
   "cell_type": "code",
   "execution_count": 9,
   "metadata": {},
   "outputs": [],
   "source": [
    "def masking(img, mask, height=432, width=532, color = yellow):\n",
    "    '''.'''\n",
    "    #mask_out = np.zeros((512, 470, 3), dtype = 'uint8') #phantom\n",
    "    mask_out = np.zeros((height, width, 3), dtype = 'uint8') #GE\n",
    "    #img = cv2.cvtColor(img, cv2.COLOR_GRAY2BGR) \n",
    "    #img = np.zeros((height, width, 3), dtype = 'uint8') #kalau shapenya (432,532) atau grayscale \n",
    "    for i in range(mask.shape[0]-1):\n",
    "        for j in range(mask.shape[1]-1):\n",
    "            if (mask[i,j] >= 30):\n",
    "                mask_out[i,j,:] = mask[i,j] \n",
    "                mask_out[i,j,:] = color\n",
    "                img[i,j,:] = mask_out[i,j,:]\n",
    "    segmented = img\n",
    "    return segmented"
   ]
  },
  {
   "cell_type": "code",
   "execution_count": 10,
   "metadata": {
    "tags": []
   },
   "outputs": [
    {
     "output_type": "stream",
     "name": "stdout",
     "text": "Creating... data/test/231_predict.png\nCreating... data/test/232_predict.png\nCreating... data/test/233_predict.png\nCreating... data/test/234_predict.png\nCreating... data/test/235_predict.png\nCreating... data/test/236_predict.png\nCreating... data/test/237_predict.png\n"
    }
   ],
   "source": [
    "import os\n",
    "from os import listdir\n",
    "from skimage import io\n",
    "from IPython.display import clear_output\n",
    "\n",
    "results_path = 'data/test/'\n",
    "results_results = 'results/'\n",
    "list_file = os.listdir(results_path)\n",
    "masked = np.zeros((len(list_file)//2, 432, 532, 3), dtype ='uint8')\n",
    "\n",
    "for i in range(len(list_file)//2):\n",
    "    #masked[i] = masking(np.zeros((432, 532, 3), dtype = 'uint8'), io.imread(results_path+str(i)+'_predict.png'), color = white)\n",
    "    masked[i] = masking(io.imread(results_path+str(i)+'.png'), io.imread(results_path+str(i)+'_predict.png'), color = aqua)\n",
    "    if (i % 10 == 0):\n",
    "        clear_output(wait=True)\n",
    "    else:\n",
    "        print('Creating... ' + results_path+str(i)+'_predict.png')\n",
    "\n",
    "    io.imsave(os.path.join(results_results,\"%d.png\"%i), masked[i])"
   ]
  },
  {
   "cell_type": "markdown",
   "metadata": {},
   "source": [
    "# CARA CONVERT PNG TO MP4"
   ]
  },
  {
   "cell_type": "code",
   "execution_count": null,
   "metadata": {},
   "outputs": [],
   "source": [
    "ffmpeg -r 30 -f image2 -i %d.png -vcodec libx264 -crf 15  -pix_fmt yuv420p test.mp4"
   ]
  },
  {
   "cell_type": "markdown",
   "metadata": {},
   "source": [
    "# CARA MENGGABUNGKAN 2 VIDEO YANG SAMA"
   ]
  },
  {
   "cell_type": "code",
   "execution_count": null,
   "metadata": {},
   "outputs": [],
   "source": [
    "ffmpeg -i Yoga60.avi -i aqua.mp4 -filter_complex \"[0:v]pad=iw*2:ih[int]; [int][1:v]overlay=W/2:0[vid]\" -map \"[vid]\" -c:v libx264 -crf 15 output2.mp4"
   ]
  },
  {
   "cell_type": "code",
   "execution_count": null,
   "metadata": {},
   "outputs": [],
   "source": []
  },
  {
   "cell_type": "markdown",
   "metadata": {},
   "source": [
    "## DICE SIMILARITY COEFFICIENT"
   ]
  },
  {
   "cell_type": "code",
   "execution_count": 11,
   "metadata": {},
   "outputs": [],
   "source": [
    "def dice(im1, im2, empty_score=1.0):\n",
    "    \"\"\"\n",
    "    Computes the Dice coefficient, a measure of set similarity.\n",
    "    Parameters\n",
    "    ----------\n",
    "    im1 : array-like, bool\n",
    "        Any array of arbitrary size. If not boolean, will be converted.\n",
    "    im2 : array-like, bool\n",
    "        Any other array of identical size. If not boolean, will be converted.\n",
    "    Returns\n",
    "    -------\n",
    "    dice : float\n",
    "        Dice coefficient as a float on range [0,1].\n",
    "        Maximum similarity = 1\n",
    "        No similarity = 0\n",
    "        Both are empty (sum eq to zero) = empty_score\n",
    "        \n",
    "    Notes\n",
    "    -----\n",
    "    The order of inputs for `dice` is irrelevant. The result will be\n",
    "    identical if `im1` and `im2` are switched.\n",
    "    \"\"\"\n",
    "    im1 = np.asarray(im1).astype(np.bool)\n",
    "    im2 = np.asarray(im2).astype(np.bool)\n",
    "\n",
    "    if im1.shape != im2.shape:\n",
    "        raise ValueError(\"Shape mismatch: im1 and im2 must have the same shape.\")\n",
    "\n",
    "    im_sum = im1.sum() + im2.sum()\n",
    "    if im_sum == 0:\n",
    "        return empty_score\n",
    "\n",
    "    # Compute Dice coefficient\n",
    "    intersection = np.logical_and(im1, im2)\n",
    "\n",
    "    return 2. * intersection.sum() / im_sum"
   ]
  },
  {
   "cell_type": "code",
   "execution_count": 12,
   "metadata": {
    "tags": []
   },
   "outputs": [
    {
     "output_type": "stream",
     "name": "stdout",
     "text": "0.6235072335164448\n"
    }
   ],
   "source": [
    "import os\n",
    "from os import listdir\n",
    "from skimage import io\n",
    "from IPython.display import clear_output\n",
    "\n",
    "path_predict = './results/prediction/'\n",
    "path_acuan = './data/Ground Truth/'\n",
    "\n",
    "list_predict = os.listdir(path_predict)\n",
    "list_acuan = os.listdir(path_acuan)\n",
    "dsc = np.zeros(len(list_predict), dtype = float)\n",
    "temp = 0\n",
    "\n",
    "for i in range(len(list_predict)-1):\n",
    "    img1 = cv2.cvtColor(cv2.imread(path_predict+str(i)+'.png'), cv2.COLOR_RGB2GRAY)\n",
    "    img2 = cv2.cvtColor(cv2.imread(path_acuan+str(i)+'.png'), cv2.COLOR_RGB2GRAY)\n",
    "    dsc[i] = dice(img1, img2)\n",
    "    temp = temp + dsc[i]\n",
    "    #print(dsc[i])\n",
    "hasil = temp/len(list_predict)\n",
    "print(hasil)"
   ]
  },
  {
   "cell_type": "markdown",
   "metadata": {},
   "source": [
    "## JACCARD SIMILARITY COEFFICIENT"
   ]
  },
  {
   "cell_type": "code",
   "execution_count": 59,
   "metadata": {},
   "outputs": [],
   "source": [
    "import numpy as np\n",
    "\n",
    "\n",
    "def jaccard(im1, im2):\n",
    "    \"\"\"\n",
    "    Computes the Jaccard metric, a measure of set similarity.\n",
    "    Parameters\n",
    "    ----------\n",
    "    im1 : array-like, bool\n",
    "        Any array of arbitrary size. If not boolean, will be converted.\n",
    "    im2 : array-like, bool\n",
    "        Any other array of identical size. If not boolean, will be converted.\n",
    "    Returns\n",
    "    -------\n",
    "    jaccard : float\n",
    "        Jaccard metric returned is a float on range [0,1].\n",
    "        Maximum similarity = 1\n",
    "        No similarity = 0\n",
    "    \n",
    "    Notes\n",
    "    -----\n",
    "    The order of inputs for `jaccard` is irrelevant. The result will be\n",
    "    identical if `im1` and `im2` are switched.\n",
    "    \"\"\"\n",
    "    im1 = np.asarray(im1).astype(np.bool)\n",
    "    im2 = np.asarray(im2).astype(np.bool)\n",
    "\n",
    "    if im1.shape != im2.shape:\n",
    "        raise ValueError(\"Shape mismatch: im1 and im2 must have the same shape.\")\n",
    "    \n",
    "    intersection = np.logical_and(im1, im2)\n",
    "\n",
    "    union = np.logical_or(im1, im2)\n",
    "\n",
    "    return intersection.sum() / float(union.sum())"
   ]
  },
  {
   "cell_type": "code",
   "execution_count": 60,
   "metadata": {},
   "outputs": [
    {
     "output_type": "stream",
     "name": "stdout",
     "text": "0.8836660731418027\n"
    }
   ],
   "source": [
    "import os\n",
    "from os import listdir\n",
    "from skimage import io\n",
    "from IPython.display import clear_output\n",
    "\n",
    "path_predict = './results/'\n",
    "path_acuan = './data/Ground Truth/'\n",
    "\n",
    "list_predict = os.listdir(path_predict)\n",
    "list_acuan = os.listdir(path_acuan)\n",
    "dsc = np.zeros(len(list_predict), dtype = float)\n",
    "temp = 0\n",
    "\n",
    "for i in range(len(list_predict)-1):\n",
    "    img1 = cv2.cvtColor(cv2.imread(path_predict+str(i)+'.png'), cv2.COLOR_RGB2GRAY)\n",
    "    img2 = cv2.cvtColor(cv2.imread(path_acuan+str(i)+'.png'), cv2.COLOR_RGB2GRAY)\n",
    "    dsc[i] = jaccard(img1, img2)\n",
    "    temp = temp + dsc[i]\n",
    "    #print(dsc[i])\n",
    "hasil = temp/len(list_predict)\n",
    "print(hasil)"
   ]
  },
  {
   "cell_type": "markdown",
   "metadata": {},
   "source": [
    "## F1-SCORE (Secara penurunan rumus sama seperti DSC)"
   ]
  },
  {
   "cell_type": "code",
   "execution_count": 1,
   "metadata": {},
   "outputs": [
    {
     "output_type": "stream",
     "name": "stdout",
     "text": "0.9947097808421631\n"
    }
   ],
   "source": [
    "import os\n",
    "from os import listdir\n",
    "from skimage import io\n",
    "import cv2\n",
    "from sklearn.metrics import f1_score\n",
    "import numpy as np  \n",
    "\n",
    "path_predict = './results/'\n",
    "path_acuan = './data/Ground Truth/'\n",
    "\n",
    "list_predict = os.listdir(path_predict)\n",
    "list_acuan = os.listdir(path_acuan)\n",
    "newf1 = np.zeros(len(list_predict), dtype = float)\n",
    "temp = 0\n",
    "\n",
    "for i in range(len(list_predict)-1):\n",
    "    ytrue = cv2.cvtColor(cv2.imread(path_predict+str(i)+'.png'), cv2.COLOR_RGB2GRAY).ravel()/255\n",
    "    ypred = cv2.cvtColor(cv2.imread(path_acuan+str(i)+'.png'), cv2.COLOR_RGB2GRAY).ravel()/255\n",
    "    ytrue.astype(int)\n",
    "    ypred.astype(int)\n",
    "    newf1[i] = f1_score(ytrue, ypred, average= 'micro')\n",
    "    temp = temp + newf1[i]\n",
    "    #print(newf1[i])\n",
    "hasil = temp/len(list_predict)\n",
    "print(hasil)"
   ]
  },
  {
   "cell_type": "markdown",
   "metadata": {},
   "source": [
    "## PIXEL DIFFERENCE"
   ]
  },
  {
   "cell_type": "code",
   "execution_count": 13,
   "metadata": {
    "tags": []
   },
   "outputs": [
    {
     "output_type": "stream",
     "name": "stdout",
     "text": "0 8304 753 0.909320809248555\n1 8913 753 0.9155166610568832\n2 8145 753 0.9075506445672191\n3 7305 36 0.9950718685831622\n4 6519 0 1.0\n5 6159 0 1.0\n6 6144 0 1.0\n7 5949 0 1.0\n8 5643 0 1.0\n9 5679 24 0.9957739038563127\n10 5952 423 0.9289314516129032\n11 6147 159 0.9741337237676916\n12 6105 264 0.9567567567567568\n13 6486 300 0.9537465309898242\n14 6318 240 0.9620132953466287\n15 6666 288 0.9567956795679567\n16 6339 408 0.9356365357311879\n17 6552 393 0.940018315018315\n18 6714 363 0.9459338695263628\n19 6525 816 0.8749425287356322\n20 6240 3654 0.41442307692307695\n21 6327 0 1.0\n22 6396 117 0.9817073170731707\n23 5823 1359 0.7666151468315301\n24 5955 4062 0.3178841309823678\n25 5937 6165 0.03840323395654371\n26 5919 6126 0.03497212366953877\n27 6135 6438 0.04938875305623472\n28 6126 7377 0.20421155729676788\n29 6057 7503 0.23873204556711244\n30 5691 3234 0.4317343173431734\n31 5325 4431 0.16788732394366196\n32 5052 0 1.0\n33 5433 0 1.0\n34 5685 0 1.0\n35 5796 0 1.0\n36 6054 1095 0.8191278493557979\n37 6015 3540 0.4114713216957606\n38 5991 4314 0.2799198798197296\n39 5877 6837 0.1633486472690148\n40 5133 1869 0.635885447106955\n41 5433 5466 0.006073992269464384\n42 5196 6012 0.15704387990762125\n43 4905 5826 0.18776758409785932\n44 4977 5385 0.08197709463532249\n45 4983 5916 0.1872366044551475\n46 4635 1776 0.6168284789644013\n47 4485 0 1.0\n48 4047 0 1.0\n49 4287 0 1.0\n50 4497 0 1.0\n51 4410 81 0.9816326530612245\n52 4335 168 0.9612456747404844\n53 4917 4899 0.0036607687614399025\n54 4662 4914 0.05405405405405406\n55 4629 0 1.0\n56 5322 0 1.0\n57 5487 6270 0.14270092946965554\n58 5502 7155 0.3004362050163577\n59 5415 360 0.9335180055401662\n60 5826 54 0.9907312049433573\n61 5394 66 0.9877641824249166\n62 5550 3306 0.4043243243243243\n63 5235 441 0.9157593123209169\n64 5046 0 1.0\n65 5040 2151 0.5732142857142857\n66 5313 4806 0.09542631281761717\n67 5364 5880 0.09619686800894854\n68 5637 6282 0.11442256519425226\n69 5010 5967 0.19101796407185628\n70 5268 6045 0.14749430523917995\n71 5319 6060 0.13931190073322053\n72 5418 6258 0.15503875968992248\n73 5778 6105 0.05659397715472482\n74 5712 6159 0.0782563025210084\n75 5559 6411 0.15326497571505668\n76 6540 6804 0.04036697247706422\n77 6303 6753 0.07139457401237506\n78 5691 6804 0.19557195571955718\n79 6018 6909 0.14805583250249252\n80 6081 6240 0.026147015293537246\n81 5523 15 0.9972840847365562\n82 5640 0 1.0\n83 5376 60 0.9888392857142857\n84 5325 4551 0.14535211267605633\n85 5709 5679 0.005254860746190226\n86 5580 5628 0.008602150537634409\n87 5898 3651 0.3809766022380468\n88 5733 876 0.8472004186289901\n89 5868 2124 0.6380368098159509\n90 5709 63 0.9889647924330005\n91 6033 6360 0.05420188960716062\n92 6183 6864 0.1101407083939835\n93 6309 6765 0.07227769852591535\n94 5955 6711 0.1269521410579345\n95 6312 6927 0.09743346007604563\n96 6078 6561 0.07946692991115499\n97 5832 6381 0.0941358024691358\n98 6162 6159 0.0004868549172346641\n99 5952 1368 0.7701612903225806\n100 5688 4554 0.19936708860759494\n101 5403 1407 0.7395891171571349\n102 5823 5814 0.0015455950540958269\n103 6390 6687 0.04647887323943662\n104 5871 3381 0.4241185487991824\n105 6027 1110 0.8158287705326033\n106 5661 843 0.8510863804981452\n107 6027 1827 0.6968641114982579\n108 6270 1482 0.7636363636363637\n109 6240 2037 0.6735576923076924\n110 6525 1155 0.8229885057471265\n111 6315 6534 0.03467933491686461\n112 5457 7068 0.2952171522814733\n113 5838 7479 0.28108941418293937\n114 5634 6609 0.17305644302449413\n115 6480 7173 0.10694444444444444\n116 6027 6741 0.11846689895470383\n117 5850 6345 0.08461538461538462\n118 5685 6519 0.1467018469656992\n119 5148 6099 0.18473193473193472\n120 4944 5883 0.18992718446601942\n121 5160 5841 0.13197674418604652\n122 5565 6201 0.11428571428571428\n123 5640 5979 0.0601063829787234\n124 5259 5628 0.07016543069024529\n125 5283 6618 0.2526973310618966\n126 5556 6333 0.1398488120950324\n127 5517 933 0.8308863512778684\n128 5385 51 0.9905292479108635\n129 5745 0 1.0\n130 5652 15 0.9973460721868365\n131 5388 648 0.8797327394209354\n132 5229 5406 0.03384968445209409\n133 5352 6027 0.12612107623318386\n134 4956 5484 0.10653753026634383\n135 5157 5544 0.07504363001745201\n136 5691 5901 0.03690036900369004\n137 5331 6009 0.12718064153066966\n138 5274 5535 0.04948805460750853\n139 5763 5604 0.027589796980739198\n140 5631 5076 0.09856153436334576\n141 5475 5961 0.08876712328767124\n142 5502 2907 0.47164667393675025\n143 5388 5931 0.10077951002227171\n144 5655 6243 0.1039787798408488\n145 5289 6261 0.18377765173000568\n146 5211 5865 0.12550374208405296\n147 5634 2136 0.6208732694355698\n148 5949 6105 0.026222894604135148\n149 5712 1728 0.6974789915966386\n150 6315 6552 0.03752969121140143\n151 6042 6501 0.0759682224428997\n152 6345 6168 0.027895981087470448\n153 6291 3294 0.47639484978540775\n154 6642 0 1.0\n155 6666 1389 0.7916291629162916\n156 6441 573 0.9110386585933862\n157 6387 0 1.0\n158 6351 690 0.8913556920170052\n159 6498 426 0.9344413665743305\n160 6405 0 1.0\n161 6693 0 1.0\n162 6666 1812 0.7281728172817282\n163 6399 6537 0.02156586966713549\n164 6216 5916 0.04826254826254826\n165 6030 6186 0.025870646766169153\n166 6324 6480 0.024667931688804556\n167 6297 6321 0.003811338732729871\n168 6429 6588 0.024731684554363042\n169 6420 6615 0.030373831775700934\n170 6174 6702 0.08551992225461613\n171 6465 6795 0.05104408352668213\n172 6405 6522 0.01826697892271663\n173 6261 6456 0.03114518447532343\n174 6183 6339 0.025230470645317808\n175 5718 6267 0.09601259181532004\n176 5769 6042 0.047321892875715026\n177 5238 5685 0.08533791523482245\n178 5493 5817 0.05898416166029492\n179 5580 5817 0.04247311827956989\n180 5625 5925 0.05333333333333334\n181 5673 5922 0.04389212057112639\n182 5652 5901 0.0440552016985138\n183 5604 5862 0.046038543897216275\n184 5544 5808 0.047619047619047616\n185 5628 4515 0.19776119402985073\n186 5574 0 1.0\n187 5709 0 1.0\n188 5994 0 1.0\n189 6084 0 1.0\n190 6216 0 1.0\n191 6276 0 1.0\n192 6252 174 0.972168905950096\n193 6222 5112 0.17839922854387658\n194 6159 6465 0.04968339016074038\n195 6177 6468 0.04711024769305488\n196 6210 6324 0.018357487922705314\n197 6156 6048 0.017543859649122806\n198 6216 6186 0.004826254826254826\n199 6219 510 0.9179932465026531\n200 6168 0 1.0\n201 6099 0 1.0\n202 6012 0 1.0\n203 6141 0 1.0\n204 6087 63 0.9896500739280434\n205 6117 528 0.9136831780284453\n206 6054 6489 0.07185332011892963\n207 5739 6432 0.1207527443805541\n208 5472 5703 0.042214912280701754\n209 5409 5703 0.05435385468663339\n210 5424 5667 0.04480088495575221\n211 5580 5658 0.013978494623655914\n212 5892 5409 0.08197556008146639\n213 5892 5556 0.05702647657841141\n214 5598 5628 0.0053590568060021436\n215 5802 6105 0.05222337125129266\n216 5934 6213 0.04701718907987867\n217 5646 5913 0.04729011689691817\n218 5601 5913 0.05570433851098018\n219 5541 5844 0.05468327016783974\n220 5463 5754 0.05326743547501373\n221 5223 5727 0.09649626651349799\n222 5325 5628 0.056901408450704224\n223 5340 5619 0.052247191011235955\n224 5373 5604 0.042992741485203795\n225 5364 5622 0.04809843400447427\n226 5427 5694 0.04919845218352681\n227 5442 5694 0.04630650496141125\n228 5538 5817 0.05037919826652221\n229 5532 5757 0.04067245119305857\n230 5505 5739 0.04250681198910082\n231 5508 5790 0.05119825708061002\n232 5361 5679 0.05931729155008394\n233 5211 5526 0.06044905008635579\n234 5154 5412 0.050058207217694994\n235 5295 5466 0.03229461756373938\n236 5367 5550 0.03409726103968697\n237 5757 6225 0.08129233976029182\n3882.8571428571427 5787.0252100840335 0.40655751453074473\n"
    }
   ],
   "source": [
    "import os\n",
    "from os import listdir\n",
    "from skimage import io\n",
    "import cv2\n",
    "import numpy as np \n",
    "import matplotlib.pyplot as plt \n",
    "\n",
    "path_predict = './results/prediction/'\n",
    "path_acuan = './data/Ground Truth/'\n",
    "\n",
    "list_predict = os.listdir(path_predict)\n",
    "list_acuan = os.listdir(path_acuan)\n",
    "temp = 0\n",
    "aa = 0\n",
    "bb = 0\n",
    "for i in range(len(list_acuan)):\n",
    "    a = np.count_nonzero(cv2.imread(path_predict+str(i)+'.png')==255)\n",
    "    b = np.count_nonzero(cv2.imread(path_acuan+str(i)+'.png')==255)\n",
    "    avg = abs(a-b)/b\n",
    "    print(i, b, a, avg)\n",
    "    temp = temp + avg\n",
    "    aa = aa + a\n",
    "    bb = bb + b\n",
    "temp = temp/len(list_acuan)\n",
    "aa = aa/len(list_acuan)\n",
    "bb = bb/len(list_acuan)\n",
    "print(aa, bb, temp)"
   ]
  },
  {
   "cell_type": "code",
   "execution_count": 16,
   "metadata": {},
   "outputs": [
    {
     "output_type": "execute_result",
     "data": {
      "text/plain": "<function ndarray.max>"
     },
     "metadata": {},
     "execution_count": 16
    }
   ],
   "source": [
    "ytrue.max"
   ]
  },
  {
   "cell_type": "code",
   "execution_count": null,
   "metadata": {},
   "outputs": [],
   "source": []
  }
 ],
 "metadata": {
  "language_info": {
   "name": "python",
   "codemirror_mode": {
    "name": "ipython",
    "version": 3
   },
   "version": "3.6.6-final"
  },
  "orig_nbformat": 2,
  "file_extension": ".py",
  "mimetype": "text/x-python",
  "name": "python",
  "npconvert_exporter": "python",
  "pygments_lexer": "ipython3",
  "version": 3,
  "kernelspec": {
   "name": "python36664bit20e9155409db4a5daee3dd105c2673f5",
   "display_name": "Python 3.6.6 64-bit"
  }
 },
 "nbformat": 4,
 "nbformat_minor": 2
}